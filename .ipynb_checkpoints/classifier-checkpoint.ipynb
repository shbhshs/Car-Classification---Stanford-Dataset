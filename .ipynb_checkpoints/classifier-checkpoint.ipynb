{
 "cells": [
  {
   "cell_type": "code",
   "execution_count": 1,
   "metadata": {},
   "outputs": [],
   "source": [
    "import numpy as np\n",
    "import pandas as pd\n",
    "\n",
    "import os\n",
    "from scipy.io import loadmat\n",
    "\n",
    "import matplotlib.pyplot as plt\n",
    "%matplotlib inline"
   ]
  },
  {
   "cell_type": "code",
   "execution_count": 2,
   "metadata": {},
   "outputs": [
    {
     "name": "stdout",
     "output_type": "stream",
     "text": [
      "['train_perfect_preds.txt', 'README.txt', 'cars_test_annos.mat', 'cars_train_annos.mat', 'cars_meta.mat', 'eval_train.m']\n"
     ]
    }
   ],
   "source": [
    "print(os.listdir('devkit/'))"
   ]
  },
  {
   "cell_type": "code",
   "execution_count": 3,
   "metadata": {},
   "outputs": [
    {
     "name": "stdout",
     "output_type": "stream",
     "text": [
      "This file gives documentation for the cars 196 dataset.\r\n",
      "(http://ai.stanford.edu/~jkrause/cars/car_dataset.html)\r\n",
      "\r\n",
      "----------------------------------------\r\n",
      "Metadata/Annotations\r\n",
      "----------------------------------------\r\n",
      "Descriptions of the files are as follows:\r\n",
      "\r\n",
      "-cars_meta.mat:\r\n",
      "  Contains a cell array of class names, one for each class.\r\n",
      "\r\n",
      "-cars_train_annos.mat:\r\n",
      "  Contains the variable 'annotations', which is a struct array of length\r\n",
      "  num_images and where each element has the fields:\r\n",
      "    bbox_x1: Min x-value of the bounding box, in pixels\r\n",
      "    bbox_x2: Max x-value of the bounding box, in pixels\r\n",
      "    bbox_y1: Min y-value of the bounding box, in pixels\r\n",
      "    bbox_y2: Max y-value of the bounding box, in pixels\r\n",
      "    class: Integral id of the class the image belongs to.\r\n",
      "    fname: Filename of the image within the folder of images.\r\n",
      "\r\n",
      "-cars_test_annos.mat:\r\n",
      "  Same format as 'cars_train_annos.mat', except the class is not provided.\r\n",
      "\r\n",
      "----------------------------------------\r\n",
      "Submission file format\r\n",
      "----------------------------------------\r\n",
      "Files for submission should be .txt files with the class prediction for\r\n",
      "image M on line M. Note that image M corresponds to the Mth annotation in\r\n",
      "the provided annotation file. An example of a file in this format is\r\n",
      "train_perfect_preds.txt\r\n",
      "\r\n",
      "Included in the devkit are a script for evaluating training accuracy,\r\n",
      "eval_train.m. Usage is:\r\n",
      "\r\n",
      "(in MATLAB)\r\n",
      ">> [accuracy, confusion_matrix] = eval_train('train_perfect_preds.txt')\r\n",
      "\r\n",
      "If your training predictions work with this function then your testing\r\n",
      "predictions should be good to go for the evaluation server, assuming\r\n",
      "that they're in the same format as your training predictions.\r\n"
     ]
    }
   ],
   "source": [
    "!cat devkit/README.txt"
   ]
  },
  {
   "cell_type": "code",
   "execution_count": 36,
   "metadata": {},
   "outputs": [],
   "source": [
    "# lets store the information in the dataframe\n",
    "mat = loadmat('devkit/cars_meta.mat')\n",
    "\n",
    "classes = []\n",
    "for C in mat['class_names'][0]:\n",
    "    classes.append(C[0])\n",
    "classes = pd.DataFrame(classes,columns=['class_name'])\n",
    "\n",
    "#blankidx = [''] * len(classes)\n",
    "#classes.index = blankidx\n",
    "classes.head()"
   ]
  },
  {
   "cell_type": "code",
   "execution_count": 38,
   "metadata": {},
   "outputs": [
    {
     "data": {
      "text/plain": [
       "{'__globals__': [],\n",
       " '__header__': b'MATLAB 5.0 MAT-file, Platform: GLNXA64, Created on: Sat Dec 14 14:13:07 2013',\n",
       " '__version__': '1.0',\n",
       " 'annotations': array([[ (array([[39]], dtype=uint8), array([[116]], dtype=uint8), array([[569]], dtype=uint16), array([[375]], dtype=uint16), array([[14]], dtype=uint8), array(['00001.jpg'],\n",
       "       dtype='<U9')),\n",
       "         (array([[36]], dtype=uint8), array([[116]], dtype=uint8), array([[868]], dtype=uint16), array([[587]], dtype=uint16), array([[3]], dtype=uint8), array(['00002.jpg'],\n",
       "       dtype='<U9')),\n",
       "         (array([[85]], dtype=uint8), array([[109]], dtype=uint8), array([[601]], dtype=uint16), array([[381]], dtype=uint16), array([[91]], dtype=uint8), array(['00003.jpg'],\n",
       "       dtype='<U9')),\n",
       "         ...,\n",
       "         (array([[26]], dtype=uint8), array([[246]], dtype=uint8), array([[660]], dtype=uint16), array([[449]], dtype=uint16), array([[163]], dtype=uint8), array(['08142.jpg'],\n",
       "       dtype='<U9')),\n",
       "         (array([[78]], dtype=uint8), array([[526]], dtype=uint16), array([[1489]], dtype=uint16), array([[908]], dtype=uint16), array([[112]], dtype=uint8), array(['08143.jpg'],\n",
       "       dtype='<U9')),\n",
       "         (array([[20]], dtype=uint8), array([[240]], dtype=uint8), array([[862]], dtype=uint16), array([[677]], dtype=uint16), array([[17]], dtype=uint8), array(['08144.jpg'],\n",
       "       dtype='<U9'))]],\n",
       "       dtype=[('bbox_x1', 'O'), ('bbox_y1', 'O'), ('bbox_x2', 'O'), ('bbox_y2', 'O'), ('class', 'O'), ('fname', 'O')])}"
      ]
     },
     "execution_count": 38,
     "metadata": {},
     "output_type": "execute_result"
    }
   ],
   "source": [
    "# lets store the data in the dataFrame\n",
    "mat = loadmat('devkit/cars_train_annos.mat')\n",
    "mat"
   ]
  },
  {
   "cell_type": "code",
   "execution_count": 54,
   "metadata": {},
   "outputs": [
    {
     "data": {
      "text/html": [
       "<div>\n",
       "<style>\n",
       "    .dataframe thead tr:only-child th {\n",
       "        text-align: right;\n",
       "    }\n",
       "\n",
       "    .dataframe thead th {\n",
       "        text-align: left;\n",
       "    }\n",
       "\n",
       "    .dataframe tbody tr th {\n",
       "        vertical-align: top;\n",
       "    }\n",
       "</style>\n",
       "<table border=\"1\" class=\"dataframe\">\n",
       "  <thead>\n",
       "    <tr style=\"text-align: right;\">\n",
       "      <th></th>\n",
       "      <th>min_x</th>\n",
       "      <th>min_y</th>\n",
       "      <th>max_x</th>\n",
       "      <th>max_y</th>\n",
       "      <th>class_name</th>\n",
       "      <th>file_name</th>\n",
       "    </tr>\n",
       "  </thead>\n",
       "  <tbody>\n",
       "    <tr>\n",
       "      <th>0</th>\n",
       "      <td>39</td>\n",
       "      <td>116</td>\n",
       "      <td>569</td>\n",
       "      <td>375</td>\n",
       "      <td>14</td>\n",
       "      <td>00001.jpg</td>\n",
       "    </tr>\n",
       "    <tr>\n",
       "      <th>1</th>\n",
       "      <td>36</td>\n",
       "      <td>116</td>\n",
       "      <td>868</td>\n",
       "      <td>587</td>\n",
       "      <td>3</td>\n",
       "      <td>00002.jpg</td>\n",
       "    </tr>\n",
       "    <tr>\n",
       "      <th>2</th>\n",
       "      <td>85</td>\n",
       "      <td>109</td>\n",
       "      <td>601</td>\n",
       "      <td>381</td>\n",
       "      <td>91</td>\n",
       "      <td>00003.jpg</td>\n",
       "    </tr>\n",
       "    <tr>\n",
       "      <th>3</th>\n",
       "      <td>621</td>\n",
       "      <td>393</td>\n",
       "      <td>1484</td>\n",
       "      <td>1096</td>\n",
       "      <td>134</td>\n",
       "      <td>00004.jpg</td>\n",
       "    </tr>\n",
       "    <tr>\n",
       "      <th>4</th>\n",
       "      <td>14</td>\n",
       "      <td>36</td>\n",
       "      <td>133</td>\n",
       "      <td>99</td>\n",
       "      <td>106</td>\n",
       "      <td>00005.jpg</td>\n",
       "    </tr>\n",
       "  </tbody>\n",
       "</table>\n",
       "</div>"
      ],
      "text/plain": [
       "   min_x  min_y  max_x  max_y  class_name  file_name\n",
       "0     39    116    569    375          14  00001.jpg\n",
       "1     36    116    868    587           3  00002.jpg\n",
       "2     85    109    601    381          91  00003.jpg\n",
       "3    621    393   1484   1096         134  00004.jpg\n",
       "4     14     36    133     99         106  00005.jpg"
      ]
     },
     "execution_count": 54,
     "metadata": {},
     "output_type": "execute_result"
    }
   ],
   "source": [
    "train_df = []\n",
    "for row in mat['annotations'][0]:\n",
    "    train_df.append([row[0][0][0],    # min x\n",
    "                     row[1][0][0],    # max x\n",
    "                     row[2][0][0],    # min y\n",
    "                     row[3][0][0],    # max y\n",
    "                     row[4][0][0],    # class\n",
    "                     row[5][0]])   # file name\n",
    "\n",
    "\n",
    "train_df = pd.DataFrame(train_df, columns=['min_x', 'min_y', 'max_x', 'max_y',\n",
    "                                           'class_name', 'file_name'])\n",
    "train_df.head()"
   ]
  },
  {
   "cell_type": "code",
   "execution_count": null,
   "metadata": {},
   "outputs": [],
   "source": []
  }
 ],
 "metadata": {
  "kernelspec": {
   "display_name": "Python 3",
   "language": "python",
   "name": "python3"
  },
  "language_info": {
   "codemirror_mode": {
    "name": "ipython",
    "version": 3
   },
   "file_extension": ".py",
   "mimetype": "text/x-python",
   "name": "python",
   "nbconvert_exporter": "python",
   "pygments_lexer": "ipython3",
   "version": "3.6.3"
  }
 },
 "nbformat": 4,
 "nbformat_minor": 2
}
